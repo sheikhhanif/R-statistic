{
 "cells": [
  
  {
   "cell_type": "markdown",
   "metadata": {},
   "source": [
    "## Importing necessary packages\n",
    "In this section we are importing and installing necessary packages will be using during our excercises."
   ]
  },
  {
   "cell_type": "code",
   "execution_count": 1,
   "metadata": {},
   "outputs": [
    {
     "name": "stderr",
     "output_type": "stream",
     "text": [
      "Installing package into ‘/srv/rlibs’\n",
      "(as ‘lib’ is unspecified)\n",
      "also installing the dependencies ‘minqa’, ‘nloptr’, ‘RcppEigen’, ‘ucminf’, ‘numDeriv’, ‘lme4’, ‘ordinal’, ‘pan’, ‘jomo’, ‘mitml’\n",
      "\n",
      "Loading required package: lattice\n",
      "\n",
      "Attaching package: ‘mice’\n",
      "\n",
      "The following objects are masked from ‘package:base’:\n",
      "\n",
      "    cbind, rbind\n",
      "\n",
      "Installing package into ‘/srv/rlibs’\n",
      "(as ‘lib’ is unspecified)\n",
      "\n",
      "Attaching package: ‘zoo’\n",
      "\n",
      "The following objects are masked from ‘package:base’:\n",
      "\n",
      "    as.Date, as.Date.numeric\n",
      "\n"
     ]
    }
   ],
   "source": [
    "install.packages(\"mice\")\n",
    "library(mice)\n",
    "install.packages(\"zoo\")\n",
    "library(\"zoo\")\n",
    "install.packages(\"classInt\")\n",
    "library(classInt)"
   ]
  },
  {
   "cell_type": "markdown",
   "metadata": {},
   "source": [
    "## Creating Dataset\n",
    "We are creating our own dataset which will contain some missing values and outliers along with 3 features. Creating dataset\n",
    "by using \"R\" is easy. "
   ]
  },
  {
   "cell_type": "code",
   "execution_count": 5,
   "metadata": {},
   "outputs": [],
   "source": [
    "# creating dataframe\n",
    "dataset <- data.frame(\"Qualification\" = c('bachelor','bachelor', 'Masters', 'Masters', 'Masters', 'PHD', 'PHD','bachelor','Masters', 'PHD', 'PHD','bachelor', 'PHD','bachelor','Masters', 'PHD','PHD','bachelor','Masters', 'PHD'),\n",
    "                   \"Salary\" = c(5000, 100000, NA, 7000, 6500, NA, 10000, 9000, 3000, 7000, 12000, 4000, NA, 9090, 9500, 3000, 5000, 7000, 9000, 3000),\n",
    "                    \"Expenses\" = c(2000, 6000, 3000, 5000, 4000, 7400, 76000, NA, 2000, 6600, 11000, 1200, 7600, 3000, 2400, 6200,70000, NA, 2500, 7600))"
   ]
  },
  {
   "cell_type": "code",
   "execution_count": 6,
   "metadata": {},
   "outputs": [
    {
     "data": {
      "text/html": [
       "<table>\n",
       "<caption>A data.frame: 6 × 3</caption>\n",
       "<thead>\n",
       "\t<tr><th scope=col>Qualification</th><th scope=col>Salary</th><th scope=col>Expenses</th></tr>\n",
       "\t<tr><th scope=col>&lt;fct&gt;</th><th scope=col>&lt;dbl&gt;</th><th scope=col>&lt;dbl&gt;</th></tr>\n",
       "</thead>\n",
       "<tbody>\n",
       "\t<tr><td>bachelor</td><td>  5000</td><td>2000</td></tr>\n",
       "\t<tr><td>bachelor</td><td>100000</td><td>6000</td></tr>\n",
       "\t<tr><td>Masters </td><td>    NA</td><td>3000</td></tr>\n",
       "\t<tr><td>Masters </td><td>  7000</td><td>5000</td></tr>\n",
       "\t<tr><td>Masters </td><td>  6500</td><td>4000</td></tr>\n",
       "\t<tr><td>PHD     </td><td>    NA</td><td>7400</td></tr>\n",
       "</tbody>\n",
       "</table>\n"
      ],
      "text/latex": [
       "A data.frame: 6 × 3\n",
       "\\begin{tabular}{r|lll}\n",
       " Qualification & Salary & Expenses\\\\\n",
       " <fct> & <dbl> & <dbl>\\\\\n",
       "\\hline\n",
       "\t bachelor &   5000 & 2000\\\\\n",
       "\t bachelor & 100000 & 6000\\\\\n",
       "\t Masters  &     NA & 3000\\\\\n",
       "\t Masters  &   7000 & 5000\\\\\n",
       "\t Masters  &   6500 & 4000\\\\\n",
       "\t PHD      &     NA & 7400\\\\\n",
       "\\end{tabular}\n"
      ],
      "text/markdown": [
       "\n",
       "A data.frame: 6 × 3\n",
       "\n",
       "| Qualification &lt;fct&gt; | Salary &lt;dbl&gt; | Expenses &lt;dbl&gt; |\n",
       "|---|---|---|\n",
       "| bachelor |   5000 | 2000 |\n",
       "| bachelor | 100000 | 6000 |\n",
       "| Masters  |     NA | 3000 |\n",
       "| Masters  |   7000 | 5000 |\n",
       "| Masters  |   6500 | 4000 |\n",
       "| PHD      |     NA | 7400 |\n",
       "\n"
      ],
      "text/plain": [
       "  Qualification Salary Expenses\n",
       "1 bachelor        5000 2000    \n",
       "2 bachelor      100000 6000    \n",
       "3 Masters           NA 3000    \n",
       "4 Masters         7000 5000    \n",
       "5 Masters         6500 4000    \n",
       "6 PHD               NA 7400    "
      ]
     },
     "metadata": {},
     "output_type": "display_data"
    }
   ],
   "source": [
    "# displaying some of our data\n",
    "head(dataset)"
   ]
  },
  {
   "cell_type": "markdown",
   "metadata": {},
   "source": [
    "## Missing Value\n",
    "Missing value is painful for analysis. Firstly we will check for missing value in our dataset and then we will fill those \n",
    "    data point with mean. As our dataset is small and don't want to lose any of our observation. There are many ways to determine missing values in 'R'. One elegent way is to use 'mice' library's method called pattern which will give us visual representation of missing values. Another simple method is to use 'R' base method called 'is.na' which is pretty handy as well. Both approach has shown below. \n",
    "    From our exploration is clear that we 5 missing observations. We would like to fill those values with it's column mean. One handy approach is it use 'zoo' library's aggregate library. It is obvious that missing values are reside in\n",
    "    \"Expenses\" and \"Salary\" columns. So just need to compute mean only two of these columns. "
   ]
  },
  {
   "cell_type": "code",
   "execution_count": 7,
   "metadata": {},
   "outputs": [
    {
     "data": {
      "text/html": [
       "<table>\n",
       "<caption>A matrix: 4 × 4 of type dbl</caption>\n",
       "<thead>\n",
       "\t<tr><th></th><th scope=col>Qualification</th><th scope=col>Expenses</th><th scope=col>Salary</th><th scope=col></th></tr>\n",
       "</thead>\n",
       "<tbody>\n",
       "\t<tr><th scope=row>15</th><td>1</td><td>1</td><td>1</td><td>0</td></tr>\n",
       "\t<tr><th scope=row>3</th><td>1</td><td>1</td><td>0</td><td>1</td></tr>\n",
       "\t<tr><th scope=row>2</th><td>1</td><td>0</td><td>1</td><td>1</td></tr>\n",
       "\t<tr><th scope=row></th><td>0</td><td>2</td><td>3</td><td>5</td></tr>\n",
       "</tbody>\n",
       "</table>\n"
      ],
      "text/latex": [
       "A matrix: 4 × 4 of type dbl\n",
       "\\begin{tabular}{r|llll}\n",
       "  & Qualification & Expenses & Salary & \\\\\n",
       "\\hline\n",
       "\t15 & 1 & 1 & 1 & 0\\\\\n",
       "\t3 & 1 & 1 & 0 & 1\\\\\n",
       "\t2 & 1 & 0 & 1 & 1\\\\\n",
       "\t & 0 & 2 & 3 & 5\\\\\n",
       "\\end{tabular}\n"
      ],
      "text/markdown": [
       "\n",
       "A matrix: 4 × 4 of type dbl\n",
       "\n",
       "| <!--/--> | Qualification | Expenses | Salary | <!----> |\n",
       "|---|---|---|---|---|\n",
       "| 15 | 1 | 1 | 1 | 0 |\n",
       "| 3 | 1 | 1 | 0 | 1 |\n",
       "| 2 | 1 | 0 | 1 | 1 |\n",
       "| <!----> | 0 | 2 | 3 | 5 |\n",
       "\n"
      ],
      "text/plain": [
       "   Qualification Expenses Salary  \n",
       "15 1             1        1      0\n",
       "3  1             1        0      1\n",
       "2  1             0        1      1\n",
       "   0             2        3      5"
      ]
     },
     "metadata": {},
     "output_type": "display_data"
    },
    {
     "data": {
      "image/png": "[encoded data removed]",
      "text/plain": [
       "plot without title"
      ]
     },
     "metadata": {},
     "output_type": "display_data"
    }
   ],
   "source": [
    "md.pattern(dataset)"
   ]
  },
  {
   "cell_type": "code",
   "execution_count": 9,
   "metadata": {},
   "outputs": [
    {
     "data": {
      "text/html": [
       "5"
      ],
      "text/latex": [
       "5"
      ],
      "text/markdown": [
       "5"
      ],
      "text/plain": [
       "[1] 5"
      ]
     },
     "metadata": {},
     "output_type": "display_data"
    }
   ],
   "source": [
    "# total no of missing values\n",
    "sum(is.na(dataset))"
   ]
  },
  {
   "cell_type": "code",
   "execution_count": 10,
   "metadata": {},
   "outputs": [],
   "source": [
    "# filling missing values\n",
    "data <- na.aggregate(dataset[2:3])"
   ]
  },
  {
   "cell_type": "code",
   "execution_count": 11,
   "metadata": {},
   "outputs": [
    {
     "data": {
      "text/html": [
       "<table>\n",
       "<caption>A data.frame: 6 × 2</caption>\n",
       "<thead>\n",
       "\t<tr><th scope=col>Salary</th><th scope=col>Expenses</th></tr>\n",
       "\t<tr><th scope=col>&lt;dbl&gt;</th><th scope=col>&lt;dbl&gt;</th></tr>\n",
       "</thead>\n",
       "<tbody>\n",
       "\t<tr><td>  5000.00</td><td>2000</td></tr>\n",
       "\t<tr><td>100000.00</td><td>6000</td></tr>\n",
       "\t<tr><td> 12299.41</td><td>3000</td></tr>\n",
       "\t<tr><td>  7000.00</td><td>5000</td></tr>\n",
       "\t<tr><td>  6500.00</td><td>4000</td></tr>\n",
       "\t<tr><td> 12299.41</td><td>7400</td></tr>\n",
       "</tbody>\n",
       "</table>\n"
      ],
      "text/latex": [
       "A data.frame: 6 × 2\n",
       "\\begin{tabular}{r|ll}\n",
       " Salary & Expenses\\\\\n",
       " <dbl> & <dbl>\\\\\n",
       "\\hline\n",
       "\t   5000.00 & 2000\\\\\n",
       "\t 100000.00 & 6000\\\\\n",
       "\t  12299.41 & 3000\\\\\n",
       "\t   7000.00 & 5000\\\\\n",
       "\t   6500.00 & 4000\\\\\n",
       "\t  12299.41 & 7400\\\\\n",
       "\\end{tabular}\n"
      ],
      "text/markdown": [
       "\n",
       "A data.frame: 6 × 2\n",
       "\n",
       "| Salary &lt;dbl&gt; | Expenses &lt;dbl&gt; |\n",
       "|---|---|\n",
       "|   5000.00 | 2000 |\n",
       "| 100000.00 | 6000 |\n",
       "|  12299.41 | 3000 |\n",
       "|   7000.00 | 5000 |\n",
       "|   6500.00 | 4000 |\n",
       "|  12299.41 | 7400 |\n",
       "\n"
      ],
      "text/plain": [
       "  Salary    Expenses\n",
       "1   5000.00 2000    \n",
       "2 100000.00 6000    \n",
       "3  12299.41 3000    \n",
       "4   7000.00 5000    \n",
       "5   6500.00 4000    \n",
       "6  12299.41 7400    "
      ]
     },
     "metadata": {},
     "output_type": "display_data"
    }
   ],
   "source": [
    "# looking into some our data without missing values\n",
    "head(data)"
   ]
  },
  {
   "cell_type": "markdown",
   "metadata": {},
   "source": [
    "## Outlier Detection\n",
    "R programming has sophisticated packages for detecting outliers in dataset. One of the handy approach is to draw boxplot and see which data point is considered outlier. First we draw the boxplot and then we extract the values that falls under outlier. From our experiment with 'R' code, we find out that we have total 3 observations which falls under outlier these values are: 100000, 70000, 76000. Outlier can be removed or replaced."
   ]
  },
  {
   "cell_type": "code",
   "execution_count": 12,
   "metadata": {},
   "outputs": [
    {
     "data": {
      "image/png": "[encoded data removed]",
      "text/plain": [
       "plot without title"
      ]
     },
     "metadata": {},
     "output_type": "display_data"
    }
   ],
   "source": [
    "# drawing boxplot\n",
    "boxplot(data)"
   ]
  },
  {
   "cell_type": "code",
   "execution_count": 13,
   "metadata": {},
   "outputs": [
    {
     "data": {
      "text/html": [
       "<ol class=list-inline>\n",
       "\t<li>1e+05</li>\n",
       "\t<li>76000</li>\n",
       "\t<li>70000</li>\n",
       "</ol>\n"
      ],
      "text/latex": [
       "\\begin{enumerate*}\n",
       "\\item 1e+05\n",
       "\\item 76000\n",
       "\\item 70000\n",
       "\\end{enumerate*}\n"
      ],
      "text/markdown": [
       "1. 1e+05\n",
       "2. 76000\n",
       "3. 70000\n",
       "\n",
       "\n"
      ],
      "text/plain": [
       "[1] 100000  76000  70000"
      ]
     },
     "metadata": {},
     "output_type": "display_data"
    }
   ],
   "source": [
    "# extracting values\n",
    "boxplot(data, plot = FALSE)$out"
   ]
  },
  {
   "cell_type": "markdown",
   "metadata": {},
   "source": [
    "# Standarazition\n",
    "It also known as data normalization. It helps us to build more accurate predictive model and it also reduce computational cost at times. \"R\" programming has very clean method for data normalization. One of the method is not use 'scale'. Which will normalize data by it's mean or z-score"
   ]
  },
  {
   "cell_type": "code",
   "execution_count": 14,
   "metadata": {},
   "outputs": [],
   "source": [
    "std_data <- scale(data)"
   ]
  },
  {
   "cell_type": "code",
   "execution_count": 15,
   "metadata": {},
   "outputs": [
    {
     "data": {
      "text/html": [
       "<table>\n",
       "<caption>A matrix: 6 × 2 of type dbl</caption>\n",
       "<thead>\n",
       "\t<tr><th scope=col>Salary</th><th scope=col>Expenses</th></tr>\n",
       "</thead>\n",
       "<tbody>\n",
       "\t<tr><td>-0.3494636</td><td>-0.4956886</td></tr>\n",
       "\t<tr><td> 4.1987170</td><td>-0.3053442</td></tr>\n",
       "\t<tr><td> 0.0000000</td><td>-0.4481025</td></tr>\n",
       "\t<tr><td>-0.2537124</td><td>-0.3529303</td></tr>\n",
       "\t<tr><td>-0.2776502</td><td>-0.4005164</td></tr>\n",
       "\t<tr><td> 0.0000000</td><td>-0.2387236</td></tr>\n",
       "</tbody>\n",
       "</table>\n"
      ],
      "text/latex": [
       "A matrix: 6 × 2 of type dbl\n",
       "\\begin{tabular}{ll}\n",
       " Salary & Expenses\\\\\n",
       "\\hline\n",
       "\t -0.3494636 & -0.4956886\\\\\n",
       "\t  4.1987170 & -0.3053442\\\\\n",
       "\t  0.0000000 & -0.4481025\\\\\n",
       "\t -0.2537124 & -0.3529303\\\\\n",
       "\t -0.2776502 & -0.4005164\\\\\n",
       "\t  0.0000000 & -0.2387236\\\\\n",
       "\\end{tabular}\n"
      ],
      "text/markdown": [
       "\n",
       "A matrix: 6 × 2 of type dbl\n",
       "\n",
       "| Salary | Expenses |\n",
       "|---|---|\n",
       "| -0.3494636 | -0.4956886 |\n",
       "|  4.1987170 | -0.3053442 |\n",
       "|  0.0000000 | -0.4481025 |\n",
       "| -0.2537124 | -0.3529303 |\n",
       "| -0.2776502 | -0.4005164 |\n",
       "|  0.0000000 | -0.2387236 |\n",
       "\n"
      ],
      "text/plain": [
       "     Salary     Expenses  \n",
       "[1,] -0.3494636 -0.4956886\n",
       "[2,]  4.1987170 -0.3053442\n",
       "[3,]  0.0000000 -0.4481025\n",
       "[4,] -0.2537124 -0.3529303\n",
       "[5,] -0.2776502 -0.4005164\n",
       "[6,]  0.0000000 -0.2387236"
      ]
     },
     "metadata": {},
     "output_type": "display_data"
    }
   ],
   "source": [
    "head(std_data)"
   ]
  },
  {
   "cell_type": "markdown",
   "metadata": {},
   "source": [
    "## Variable Selection\n",
    "Pearson corelatoin is quite handy to determine which variable or feature to select. The 'p' value will tells are how strongly one variable is corelated with another. In 'R' programming the method called 'cor.test' compute pearson corelation and gives us desired data point insight."
   ]
  },
  {
   "cell_type": "code",
   "execution_count": 16,
   "metadata": {},
   "outputs": [
    {
     "data": {
      "text/plain": [
       "\n",
       "\tPearson's product-moment correlation\n",
       "\n",
       "data:  data$Salary and data$Expenses\n",
       "t = -0.28057, df = 18, p-value = 0.7822\n",
       "alternative hypothesis: true correlation is not equal to 0\n",
       "95 percent confidence interval:\n",
       " -0.4940808  0.3878590\n",
       "sample estimates:\n",
       "        cor \n",
       "-0.06598757 \n"
      ]
     },
     "metadata": {},
     "output_type": "display_data"
    }
   ],
   "source": [
    "# pearson co relation\n",
    "cor.test(data$Salary, data$Expenses)"
   ]
  },
  {
   "cell_type": "markdown",
   "metadata": {},
   "source": [
    "# Categorization\n",
    "There are few ways to categorize data. One approach is to use equal frequency binning. \"R\" library called 'classInt' comes\n",
    "into handy for that purpose. Below we have shown Salay feature's equal binning method."
   ]
  },
  {
   "cell_type": "code",
   "execution_count": 24,
   "metadata": {},
   "outputs": [],
   "source": [
    "cat_data <- classIntervals(data$Salary, 5, style = 'equal')"
   ]
  },
  {
   "cell_type": "code",
   "execution_count": 25,
   "metadata": {},
   "outputs": [
    {
     "data": {
      "text/plain": [
       "style: equal\n",
       "  one of 330 possible partitions of this variable into 5 classes\n",
       " [3000,22400) [22400,41800) [41800,61200) [61200,80600) [80600,1e+05] \n",
       "           19             0             0             0             1 "
      ]
     },
     "metadata": {},
     "output_type": "display_data"
    }
   ],
   "source": [
    "cat_data"
   ]
  },
  {
   "cell_type": "markdown",
   "metadata": {},
   "source": [
    "## References\n",
    "- https://www.rdocumentation.org\n",
    "- https://cran.r-project.org/web/packages/"
   ]
  }
 ],
 "metadata": {
  "kernelspec": {
   "display_name": "R",
   "language": "R",
   "name": "ir"
  },
  "language_info": {
   "codemirror_mode": "r",
   "file_extension": ".r",
   "mimetype": "text/x-r-source",
   "name": "R",
   "pygments_lexer": "r",
   "version": "3.6.1"
  }
 },
 "nbformat": 4,
 "nbformat_minor": 2
}
